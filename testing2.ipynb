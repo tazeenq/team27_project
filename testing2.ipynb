{
 "cells": [
  {
   "cell_type": "markdown",
   "metadata": {},
   "source": [
    "# Phase 1: Data Cleaning and Preprocessing"
   ]
  },
  {
   "cell_type": "code",
   "execution_count": 59,
   "metadata": {},
   "outputs": [
    {
     "name": "stdout",
     "output_type": "stream",
     "text": [
      "<class 'pandas.core.frame.DataFrame'>\n",
      "RangeIndex: 1000 entries, 0 to 999\n",
      "Data columns (total 9 columns):\n",
      " #   Column            Non-Null Count  Dtype \n",
      "---  ------            --------------  ----- \n",
      " 0   Transaction ID    1000 non-null   int64 \n",
      " 1   Date              1000 non-null   object\n",
      " 2   Customer ID       1000 non-null   object\n",
      " 3   Gender            1000 non-null   object\n",
      " 4   Age               1000 non-null   int64 \n",
      " 5   Product Category  1000 non-null   object\n",
      " 6   Quantity          1000 non-null   int64 \n",
      " 7   Price per Unit    1000 non-null   int64 \n",
      " 8   Total Amount      1000 non-null   int64 \n",
      "dtypes: int64(5), object(4)\n",
      "memory usage: 70.4+ KB\n"
     ]
    },
    {
     "data": {
      "text/plain": [
       "(   Transaction ID        Date Customer ID  Gender  Age Product Category  \\\n",
       " 0               1  2023-11-24     CUST001    Male   34           Beauty   \n",
       " 1               2  2023-02-27     CUST002  Female   26         Clothing   \n",
       " 2               3  2023-01-13     CUST003    Male   50      Electronics   \n",
       " 3               4  2023-05-21     CUST004    Male   37         Clothing   \n",
       " 4               5  2023-05-06     CUST005    Male   30           Beauty   \n",
       " \n",
       "    Quantity  Price per Unit  Total Amount  \n",
       " 0         3              50           150  \n",
       " 1         2             500          1000  \n",
       " 2         1              30            30  \n",
       " 3         1             500           500  \n",
       " 4         2              50           100  ,\n",
       " None)"
      ]
     },
     "execution_count": 59,
     "metadata": {},
     "output_type": "execute_result"
    }
   ],
   "source": [
    "import pandas as pd\n",
    "import numpy as np\n",
    "from sklearn.preprocessing import MinMaxScaler\n",
    "\n",
    "#Loading the dataset\n",
    "dataset_file_path = \"C:\\\\Users\\\\TazeenQ\\\\team27_project\\\\data\\\\raw\\\\retail_sales_dataset.csv\"\n",
    "retail_data = pd.read_csv(dataset_file_path)\n",
    "\n",
    "#Displaying the first couple of rows to check the data\n",
    "retail_data.head(), retail_data.info()\n"
   ]
  },
  {
   "cell_type": "code",
   "execution_count": null,
   "metadata": {},
   "outputs": [
    {
     "name": "stdout",
     "output_type": "stream",
     "text": [
      "<class 'pandas.core.frame.DataFrame'>\n",
      "RangeIndex: 998 entries, 0 to 997\n",
      "Data columns (total 9 columns):\n",
      " #   Column            Non-Null Count  Dtype         \n",
      "---  ------            --------------  -----         \n",
      " 0   transaction_id    998 non-null    int64         \n",
      " 1   date              998 non-null    datetime64[ns]\n",
      " 2   customer_id       998 non-null    object        \n",
      " 3   gender            998 non-null    object        \n",
      " 4   age               998 non-null    float64       \n",
      " 5   product_category  998 non-null    object        \n",
      " 6   quantity          998 non-null    float64       \n",
      " 7   price_per_unit    998 non-null    float64       \n",
      " 8   total_amount      998 non-null    float64       \n",
      "dtypes: datetime64[ns](1), float64(4), int64(1), object(3)\n",
      "memory usage: 70.3+ KB\n"
     ]
    },
    {
     "data": {
      "text/plain": [
       "(None,\n",
       "    transaction_id       date customer_id  gender       age product_category  \\\n",
       " 0               1 2023-11-24     CUST001    Male  0.347826           Beauty   \n",
       " 1               2 2023-02-27     CUST002  Female  0.173913         Clothing   \n",
       " 2               3 2023-01-13     CUST003    Male  0.695652      Electronics   \n",
       " 3               4 2023-05-21     CUST004    Male  0.413043         Clothing   \n",
       " 4               5 2023-05-06     CUST005    Male  0.260870           Beauty   \n",
       " \n",
       "    quantity  price_per_unit  total_amount  \n",
       " 0  0.666667        0.052632      0.063291  \n",
       " 1  0.333333        1.000000      0.493671  \n",
       " 2  0.000000        0.010526      0.002532  \n",
       " 3  0.000000        1.000000      0.240506  \n",
       " 4  0.333333        0.052632      0.037975  )"
      ]
     },
     "execution_count": 60,
     "metadata": {},
     "output_type": "execute_result"
    }
   ],
   "source": [
    "#Renaming column names\n",
    "retail_data.rename(columns = lambda x: x.strip().replace(\" \", \"_\").lower(), inplace = True)\n",
    "\n",
    "#Standardizing data types\n",
    "#Converting date to datetime\n",
    "retail_data['date'] = pd.to_datetime(retail_data['date'], errors = 'coerce')\n",
    "\n",
    "#Handling missing values by replacing blanks with NaN and checking for missing values\n",
    "retail_data.replace(\"\", np.nan, inplace = True)\n",
    "missing_summary = retail_data.isnull().sum()\n",
    "\n",
    "#Dropping rows with date missing\n",
    "retail_data.dropna(subset = ['date'], inplace = True)\n",
    "\n",
    "#Filtering data, the dataset has values from 2023 and only 2 rows with data from 2024. I am removing those 2 rows.\n",
    "retail_data = retail_data[retail_data['date'].dt.year != 2024].reset_index(drop = True)\n",
    "\n",
    "#Summarizing dataset features\n",
    "summary_stats = retail_data.describe(include = 'all')\n",
    "\n",
    "#Choosing numerical columns to normalize\n",
    "numerical_cols = ['age', 'quantity', 'price_per_unit', 'total_amount']\n",
    "\n",
    "#Normalizng them\n",
    "scaler = MinMaxScaler()\n",
    "normalized_data = scaler.fit_transform(retail_data[numerical_cols])\n",
    "\n",
    "#Creating a new DataFrame for the normalized data\n",
    "normalized_dataset = retail_data.copy()\n",
    "normalized_dataset[numerical_cols] = pd.DataFrame(normalized_data, columns = numerical_cols)\n",
    "\n",
    "#Hot encoding my categorical variables\n",
    "categorical_columns = ['gender', 'product_category']\n",
    "encoded_date = pd.get_dummies(normalized_dataset, columns = categorical_columns, drop_first = False)\n",
    "\n",
    "#Saving the normalized dataset to a new file\n",
    "cleaned_dataset_file_path = \"C:\\\\Users\\\\TazeenQ\\\\team27_project\\\\data\\\\processed\\\\processed_retail_sales_dataset.csv\"\n",
    "normalized_dataset.to_csv(cleaned_dataset_file_path, index = True) #true for logistic regression (drop beauty category), false for KNN and random forests - multicollinearity\n",
    "\n",
    "normalized_dataset.info(), normalized_dataset.head()"
   ]
  },
  {
   "cell_type": "markdown",
   "metadata": {},
   "source": [
    "# Phase 2: Applying Statistical Methods"
   ]
  }
 ],
 "metadata": {
  "kernelspec": {
   "display_name": "dsi_participant",
   "language": "python",
   "name": "python3"
  },
  "language_info": {
   "codemirror_mode": {
    "name": "ipython",
    "version": 3
   },
   "file_extension": ".py",
   "mimetype": "text/x-python",
   "name": "python",
   "nbconvert_exporter": "python",
   "pygments_lexer": "ipython3",
   "version": "3.9.15"
  }
 },
 "nbformat": 4,
 "nbformat_minor": 2
}
