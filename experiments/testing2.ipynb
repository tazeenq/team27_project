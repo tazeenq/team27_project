{
 "cells": [
  {
   "cell_type": "markdown",
   "metadata": {},
   "source": [
    "# Phase 2: Applying Statistical Methods"
   ]
  },
  {
   "cell_type": "code",
   "execution_count": 64,
   "metadata": {},
   "outputs": [
    {
     "name": "stdout",
     "output_type": "stream",
     "text": [
      "<class 'pandas.core.frame.DataFrame'>\n",
      "RangeIndex: 998 entries, 0 to 997\n",
      "Data columns (total 10 columns):\n",
      " #   Column            Non-Null Count  Dtype  \n",
      "---  ------            --------------  -----  \n",
      " 0   Unnamed: 0        998 non-null    int64  \n",
      " 1   transaction_id    998 non-null    int64  \n",
      " 2   date              998 non-null    object \n",
      " 3   customer_id       998 non-null    object \n",
      " 4   gender            998 non-null    object \n",
      " 5   age               998 non-null    float64\n",
      " 6   product_category  998 non-null    object \n",
      " 7   quantity          998 non-null    float64\n",
      " 8   price_per_unit    998 non-null    float64\n",
      " 9   total_amount      998 non-null    float64\n",
      "dtypes: float64(4), int64(2), object(4)\n",
      "memory usage: 78.1+ KB\n"
     ]
    },
    {
     "data": {
      "text/plain": [
       "(0.4936708860759494,\n",
       "    total_amount  high_spender\n",
       " 0      0.063291             0\n",
       " 1      0.493671             0\n",
       " 2      0.002532             0\n",
       " 3      0.240506             0\n",
       " 4      0.037975             0)"
      ]
     },
     "execution_count": 64,
     "metadata": {},
     "output_type": "execute_result"
    }
   ],
   "source": [
    "# Load the processed dataset\n",
    "file_path = \"C:\\\\Users\\\\TazeenQ\\\\team27_project\\\\data\\\\processed\\\\processed_retail_sales_dataset.csv\"\n",
    "retail_data = pd.read_csv(file_path)\n",
    "\n",
    "# Display the first few rows and summary info to understand the structure of the dataset\n",
    "retail_data.head(), retail_data.info()\n",
    "\n",
    "# Calculate the 80th percentile threshold for 'total_amount'\n",
    "high_spender_threshold = retail_data['total_amount'].quantile(0.8)\n",
    "\n",
    "# Add a new column 'high_spender' to classify customers based on the threshold\n",
    "retail_data['high_spender'] = (retail_data['total_amount'] > high_spender_threshold).astype(int)\n",
    "\n",
    "# Display the threshold and a sample of the updated dataset\n",
    "high_spender_threshold, retail_data[['total_amount', 'high_spender']].head()\n"
   ]
  },
  {
   "cell_type": "markdown",
   "metadata": {},
   "source": [
    "High Spenders - for advertising. <br>\n",
    "Subset of original sample, with equal high and low spenders. Make sure when you're choosing from low spender its randomly chosen. Do it manually.<br>\n",
    "Should I show everything that hasn't worked? keep a test code file for everything that hasn't worked.<br>\n",
    "\n"
   ]
  },
  {
   "cell_type": "markdown",
   "metadata": {},
   "source": []
  }
 ],
 "metadata": {
  "kernelspec": {
   "display_name": "dsi_participant",
   "language": "python",
   "name": "python3"
  },
  "language_info": {
   "codemirror_mode": {
    "name": "ipython",
    "version": 3
   },
   "file_extension": ".py",
   "mimetype": "text/x-python",
   "name": "python",
   "nbconvert_exporter": "python",
   "pygments_lexer": "ipython3",
   "version": "3.9.15"
  }
 },
 "nbformat": 4,
 "nbformat_minor": 2
}
