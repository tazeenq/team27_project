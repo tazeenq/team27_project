{
 "cells": [
  {
   "cell_type": "markdown",
   "metadata": {},
   "source": [
    "# Phase 2: Applying Statistical Methods"
   ]
  },
  {
   "cell_type": "code",
   "execution_count": null,
   "metadata": {},
   "outputs": [],
   "source": [
    "# Load the processed dataset\n",
    "#file_path = \"C:\\\\Users\\\\TazeenQ\\\\team27_project\\\\data\\\\processed\\\\processed_retail_sales_dataset.csv\"\n",
    "#retail_data = pd.read_csv(file_path)\n",
    "\n",
    "# Display the first few rows and summary info to understand the structure of the dataset\n",
    "#retail_data.head(), retail_data.info()\n",
    "\n",
    "# Calculate the 80th percentile threshold for 'total_amount'\n",
    "#high_spender_threshold = retail_data['total_amount'].quantile(0.8)\n",
    "\n",
    "# Add a new column 'high_spender' to classify customers based on the threshold\n",
    "#retail_data['high_spender'] = (retail_data['total_amount'] > high_spender_threshold).astype(int)\n",
    "\n",
    "# Display the threshold and a sample of the updated dataset\n",
    "#high_spender_threshold, retail_data[['total_amount', 'high_spender']].head()\n"
   ]
  }
 ],
 "metadata": {
  "kernelspec": {
   "display_name": "dsi_participant",
   "language": "python",
   "name": "python3"
  },
  "language_info": {
   "codemirror_mode": {
    "name": "ipython",
    "version": 3
   },
   "file_extension": ".py",
   "mimetype": "text/x-python",
   "name": "python",
   "nbconvert_exporter": "python",
   "pygments_lexer": "ipython3",
   "version": "3.9.15"
  }
 },
 "nbformat": 4,
 "nbformat_minor": 2
}
