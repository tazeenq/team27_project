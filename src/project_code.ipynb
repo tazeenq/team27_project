{
 "cells": [
  {
   "cell_type": "markdown",
   "metadata": {},
   "source": [
    "# Phase 1: Data Cleaning and Preprocessing"
   ]
  },
  {
   "cell_type": "code",
   "execution_count": null,
   "metadata": {},
   "outputs": [],
   "source": [
    "import pandas as pd\n",
    "import numpy as np\n",
    "from sklearn.preprocessing import MinMaxScaler\n",
    "\n",
    "#Loading the dataset\n",
    "dataset_file_path = \"C:\\\\Users\\\\TazeenQ\\\\team27_project\\\\data\\\\raw\\\\retail_sales_dataset.csv\"\n",
    "retail_data = pd.read_csv(dataset_file_path)\n",
    "\n",
    "#Displaying the first couple of rows to check the data\n",
    "retail_data.head(), retail_data.info()\n",
    "\n",
    "\n",
    "\n",
    "#Renaming column names\n",
    "retail_data.rename(columns = lambda x: x.strip().replace(\" \", \"_\").lower(), inplace = True)\n",
    "\n",
    "#Standardizing data types\n",
    "#Converting date to datetime\n",
    "retail_data['date'] = pd.to_datetime(retail_data['date'], errors = 'coerce')\n",
    "\n",
    "#Handling missing values by replacing blanks with NaN and checking for missing values\n",
    "retail_data.replace(\"\", np.nan, inplace = True)\n",
    "missing_summary = retail_data.isnull().sum()\n",
    "\n",
    "#Dropping rows with date missing\n",
    "retail_data.dropna(subset = ['date'], inplace = True)\n",
    "\n",
    "#Filtering data, the dataset has values from 2023 and only 2 rows with data from 2024. I am removing those 2 rows.\n",
    "retail_data = retail_data[retail_data['date'].dt.year != 2024].reset_index(drop = True)\n",
    "\n",
    "#Summarizing dataset features\n",
    "summary_stats = retail_data.describe(include = 'all')\n",
    "\n",
    "#Choosing numerical columns to normalize\n",
    "numerical_cols = ['age', 'quantity', 'price_per_unit', 'total_amount']\n",
    "\n",
    "#Normalizng them\n",
    "scaler = MinMaxScaler()\n",
    "normalized_data = scaler.fit_transform(retail_data[numerical_cols])\n",
    "\n",
    "#Creating a new DataFrame for the normalized data\n",
    "normalized_dataset = retail_data.copy()\n",
    "normalized_dataset[numerical_cols] = pd.DataFrame(normalized_data, columns = numerical_cols)\n",
    "\n",
    "#Hot encoding my categorical variables\n",
    "categorical_columns = ['gender', 'product_category']\n",
    "encoded_date = pd.get_dummies(normalized_dataset, columns = categorical_columns, drop_first = False) #true for logistic regression (drop beauty category), false for KNN and random forests - multicollinearity\n",
    "\n",
    "#Saving the normalized dataset to a new file\n",
    "cleaned_dataset_file_path = \"C:\\\\Users\\\\TazeenQ\\\\team27_project\\\\data\\\\processed\\\\processed_retail_sales_dataset.csv\"\n",
    "normalized_dataset.to_csv(cleaned_dataset_file_path, index = False) \n",
    "\n",
    "normalized_dataset.info(), normalized_dataset.head()"
   ]
  }
 ],
 "metadata": {
  "kernelspec": {
   "display_name": "dsi_participant",
   "language": "python",
   "name": "python3"
  },
  "language_info": {
   "name": "python",
   "version": "3.9.15"
  }
 },
 "nbformat": 4,
 "nbformat_minor": 2
}
